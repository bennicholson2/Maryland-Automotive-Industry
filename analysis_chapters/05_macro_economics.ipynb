{
 "cells": [
  {
   "attachments": {},
   "cell_type": "markdown",
   "metadata": {},
   "source": [
    "# Macro Economics Cycle Understanding\n",
    "Like many markets in microeconomics, an understanding of the macroeconomic stance can be extremely beneficial. Car markets are usually representation of consumer confidence within the population. Some factors that influence the movement of an economy are:\n",
    "- Gross Domestic Product (GDP): Overall economic output of the economy : an increasing in GDP represents that there is more money coming into the economy which has a positive trickle down effect.\n",
    "- Unemployment Rate: The overall"
   ]
  },
  {
   "cell_type": "markdown",
   "metadata": {},
   "source": []
  }
 ],
 "metadata": {
  "kernelspec": {
   "display_name": "base",
   "language": "python",
   "name": "python3"
  },
  "language_info": {
   "codemirror_mode": {
    "name": "ipython",
    "version": 3
   },
   "file_extension": ".py",
   "mimetype": "text/x-python",
   "name": "python",
   "nbconvert_exporter": "python",
   "pygments_lexer": "ipython3",
   "version": "3.9.13"
  },
  "orig_nbformat": 4
 },
 "nbformat": 4,
 "nbformat_minor": 2
}
