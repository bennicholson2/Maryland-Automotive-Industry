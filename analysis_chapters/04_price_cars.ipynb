{
 "cells": [
  {
   "attachments": {},
   "cell_type": "markdown",
   "metadata": {},
   "source": [
    "# Price Changes"
   ]
  },
  {
   "cell_type": "code",
   "execution_count": 1,
   "metadata": {},
   "outputs": [],
   "source": [
    "import pandas as pd\n",
    "import matplotlib.pyplot as plt"
   ]
  },
  {
   "cell_type": "code",
   "execution_count": 2,
   "metadata": {},
   "outputs": [
    {
     "data": {
      "text/html": [
       "<div>\n",
       "<style scoped>\n",
       "    .dataframe tbody tr th:only-of-type {\n",
       "        vertical-align: middle;\n",
       "    }\n",
       "\n",
       "    .dataframe tbody tr th {\n",
       "        vertical-align: top;\n",
       "    }\n",
       "\n",
       "    .dataframe thead th {\n",
       "        text-align: right;\n",
       "    }\n",
       "</style>\n",
       "<table border=\"1\" class=\"dataframe\">\n",
       "  <thead>\n",
       "    <tr style=\"text-align: right;\">\n",
       "      <th></th>\n",
       "      <th>date</th>\n",
       "      <th>total_cars_sold</th>\n",
       "      <th>new_cars_sold</th>\n",
       "      <th>used_cars_sold</th>\n",
       "      <th>total_value_cars_sold</th>\n",
       "      <th>new_value_cars_sold</th>\n",
       "      <th>used_value_cars_sold</th>\n",
       "    </tr>\n",
       "  </thead>\n",
       "  <tbody>\n",
       "    <tr>\n",
       "      <th>0</th>\n",
       "      <td>2002-01-01</td>\n",
       "      <td>81033</td>\n",
       "      <td>31106</td>\n",
       "      <td>49927</td>\n",
       "      <td>1141497749</td>\n",
       "      <td>755015820</td>\n",
       "      <td>386481929</td>\n",
       "    </tr>\n",
       "    <tr>\n",
       "      <th>1</th>\n",
       "      <td>2002-02-01</td>\n",
       "      <td>78502</td>\n",
       "      <td>27520</td>\n",
       "      <td>50982</td>\n",
       "      <td>1025807465</td>\n",
       "      <td>664454223</td>\n",
       "      <td>361353242</td>\n",
       "    </tr>\n",
       "    <tr>\n",
       "      <th>2</th>\n",
       "      <td>2002-03-01</td>\n",
       "      <td>93019</td>\n",
       "      <td>34225</td>\n",
       "      <td>58794</td>\n",
       "      <td>1225051631</td>\n",
       "      <td>805666244</td>\n",
       "      <td>419385387</td>\n",
       "    </tr>\n",
       "    <tr>\n",
       "      <th>3</th>\n",
       "      <td>2002-04-01</td>\n",
       "      <td>96269</td>\n",
       "      <td>36452</td>\n",
       "      <td>59817</td>\n",
       "      <td>1279429447</td>\n",
       "      <td>846368297</td>\n",
       "      <td>433061150</td>\n",
       "    </tr>\n",
       "    <tr>\n",
       "      <th>4</th>\n",
       "      <td>2002-05-01</td>\n",
       "      <td>97936</td>\n",
       "      <td>37359</td>\n",
       "      <td>60577</td>\n",
       "      <td>1297575194</td>\n",
       "      <td>855005784</td>\n",
       "      <td>442569410</td>\n",
       "    </tr>\n",
       "    <tr>\n",
       "      <th>...</th>\n",
       "      <td>...</td>\n",
       "      <td>...</td>\n",
       "      <td>...</td>\n",
       "      <td>...</td>\n",
       "      <td>...</td>\n",
       "      <td>...</td>\n",
       "      <td>...</td>\n",
       "    </tr>\n",
       "    <tr>\n",
       "      <th>259</th>\n",
       "      <td>2023-08-01</td>\n",
       "      <td>78601</td>\n",
       "      <td>25876</td>\n",
       "      <td>52725</td>\n",
       "      <td>2131035952</td>\n",
       "      <td>1222581892</td>\n",
       "      <td>908454060</td>\n",
       "    </tr>\n",
       "    <tr>\n",
       "      <th>260</th>\n",
       "      <td>2023-09-01</td>\n",
       "      <td>69278</td>\n",
       "      <td>23892</td>\n",
       "      <td>45386</td>\n",
       "      <td>1879114283</td>\n",
       "      <td>1134437699</td>\n",
       "      <td>744676584</td>\n",
       "    </tr>\n",
       "    <tr>\n",
       "      <th>261</th>\n",
       "      <td>2023-10-01</td>\n",
       "      <td>69248</td>\n",
       "      <td>23775</td>\n",
       "      <td>45473</td>\n",
       "      <td>1863262680</td>\n",
       "      <td>1122680147</td>\n",
       "      <td>740582533</td>\n",
       "    </tr>\n",
       "    <tr>\n",
       "      <th>262</th>\n",
       "      <td>2023-11-01</td>\n",
       "      <td>64980</td>\n",
       "      <td>22720</td>\n",
       "      <td>42260</td>\n",
       "      <td>1756655669</td>\n",
       "      <td>1062465105</td>\n",
       "      <td>694190564</td>\n",
       "    </tr>\n",
       "    <tr>\n",
       "      <th>263</th>\n",
       "      <td>2023-12-01</td>\n",
       "      <td>66566</td>\n",
       "      <td>26010</td>\n",
       "      <td>40556</td>\n",
       "      <td>1907969542</td>\n",
       "      <td>1233234965</td>\n",
       "      <td>674734577</td>\n",
       "    </tr>\n",
       "  </tbody>\n",
       "</table>\n",
       "<p>264 rows × 7 columns</p>\n",
       "</div>"
      ],
      "text/plain": [
       "          date  total_cars_sold  new_cars_sold  used_cars_sold  \\\n",
       "0   2002-01-01            81033          31106           49927   \n",
       "1   2002-02-01            78502          27520           50982   \n",
       "2   2002-03-01            93019          34225           58794   \n",
       "3   2002-04-01            96269          36452           59817   \n",
       "4   2002-05-01            97936          37359           60577   \n",
       "..         ...              ...            ...             ...   \n",
       "259 2023-08-01            78601          25876           52725   \n",
       "260 2023-09-01            69278          23892           45386   \n",
       "261 2023-10-01            69248          23775           45473   \n",
       "262 2023-11-01            64980          22720           42260   \n",
       "263 2023-12-01            66566          26010           40556   \n",
       "\n",
       "     total_value_cars_sold  new_value_cars_sold  used_value_cars_sold  \n",
       "0               1141497749            755015820             386481929  \n",
       "1               1025807465            664454223             361353242  \n",
       "2               1225051631            805666244             419385387  \n",
       "3               1279429447            846368297             433061150  \n",
       "4               1297575194            855005784             442569410  \n",
       "..                     ...                  ...                   ...  \n",
       "259             2131035952           1222581892             908454060  \n",
       "260             1879114283           1134437699             744676584  \n",
       "261             1863262680           1122680147             740582533  \n",
       "262             1756655669           1062465105             694190564  \n",
       "263             1907969542           1233234965             674734577  \n",
       "\n",
       "[264 rows x 7 columns]"
      ]
     },
     "execution_count": 2,
     "metadata": {},
     "output_type": "execute_result"
    }
   ],
   "source": []
  },
  {
   "attachments": {},
   "cell_type": "markdown",
   "metadata": {},
   "source": [
    "## Average Transaction Value"
   ]
  },
  {
   "cell_type": "code",
   "execution_count": 3,
   "metadata": {},
   "outputs": [],
   "source": [
    "# create a new value\n",
    "car_cost = pd.DataFrame()"
   ]
  },
  {
   "cell_type": "code",
   "execution_count": 6,
   "metadata": {},
   "outputs": [
    {
     "data": {
      "text/plain": [
       "[<matplotlib.lines.Line2D at 0x7fd320615190>]"
      ]
     },
     "execution_count": 6,
     "metadata": {},
     "output_type": "execute_result"
    },
    {
     "data": {
      "image/png": "[encoded data removed]",
      "text/plain": [
       "<Figure size 640x480 with 1 Axes>"
      ]
     },
     "metadata": {},
     "output_type": "display_data"
    }
   ],
   "source": [
    "plt.plot(car_cost['total_average_tvalue'])"
   ]
  },
  {
   "cell_type": "code",
   "execution_count": null,
   "metadata": {},
   "outputs": [],
   "source": []
  }
 ],
 "metadata": {
  "kernelspec": {
   "display_name": "base",
   "language": "python",
   "name": "python3"
  },
  "language_info": {
   "codemirror_mode": {
    "name": "ipython",
    "version": 3
   },
   "file_extension": ".py",
   "mimetype": "text/x-python",
   "name": "python",
   "nbconvert_exporter": "python",
   "pygments_lexer": "ipython3",
   "version": "3.9.13"
  },
  "orig_nbformat": 4
 },
 "nbformat": 4,
 "nbformat_minor": 2
}
